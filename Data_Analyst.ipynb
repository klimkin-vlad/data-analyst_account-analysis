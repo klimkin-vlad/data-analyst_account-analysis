{
  "nbformat": 4,
  "nbformat_minor": 0,
  "metadata": {
    "colab": {
      "provenance": []
    },
    "kernelspec": {
      "name": "python3",
      "display_name": "Python 3"
    },
    "language_info": {
      "name": "python"
    }
  },
  "cells": [
    {
      "cell_type": "code",
      "execution_count": null,
      "metadata": {
        "id": "WjS0wO8CV3hA"
      },
      "outputs": [],
      "source": [
        "import pandas as pd\n",
        "import numpy as np\n",
        "import unicodedata as ud"
      ]
    },
    {
      "cell_type": "markdown",
      "source": [
        "Приводим строки к единому виду"
      ],
      "metadata": {
        "id": "CT33T_TXPJ5T"
      }
    },
    {
      "cell_type": "code",
      "source": [
        "def normalize(s):\n",
        "  s = ud.normalize(\"NFKD\", s)\n",
        "  s = s.replace(\" \", \"\")\n",
        "  s = s.replace(\",\", \".\")\n",
        "  return s"
      ],
      "metadata": {
        "id": "mrMZNR_dInsQ"
      },
      "execution_count": null,
      "outputs": []
    },
    {
      "cell_type": "code",
      "source": [
        "financial_data = pd.read_csv(\"financial_data.csv\")\n",
        "financial_data = financial_data.fillna(\"0\")\n",
        "financial_data = financial_data.replace(\"end\", \"0\")\n",
        "financial_data = financial_data.replace(\"стоп\", \"0\")\n",
        "financial_data = financial_data.replace(\"в ноль\", \"0\")\n",
        "month_financial = financial_data.columns.difference([\"Account\", \"Причина дубля\", \"id\"])\n",
        "financial_data[month_financial] = financial_data[month_financial].map(lambda s: normalize(s))\n",
        "financial_data.to_csv(\"financial_data1.csv\")"
      ],
      "metadata": {
        "id": "Isy20ek4PPXW"
      },
      "execution_count": null,
      "outputs": []
    },
    {
      "cell_type": "markdown",
      "source": [
        "Грузим нужные данные"
      ],
      "metadata": {
        "id": "TqDVrxgRTCqD"
      }
    },
    {
      "cell_type": "code",
      "source": [
        "prolongations = pd.read_csv(\"prolongations.csv\")"
      ],
      "metadata": {
        "id": "q68zlz9NWn_5"
      },
      "execution_count": null,
      "outputs": []
    },
    {
      "cell_type": "code",
      "source": [
        "financial_data = pd.read_csv(\"financial_data1.csv\", decimal = \".\", thousands = None)\n",
        "financial_data = financial_data.drop(\"Unnamed: 0\", axis = 1)\n",
        "financial_data[financial_data == \"вноль\"] = financial_data.shift(axis = 1)\n",
        "financial_data[financial_data == \"вноль\"] = financial_data.shift(axis = 1)\n",
        "financial_data[financial_data == \"вноль\"] = financial_data.shift(axis = 1)\n",
        "financial_data[financial_data == \"вноль\"] = financial_data.shift(axis = 1)"
      ],
      "metadata": {
        "id": "vDpdHTllWpu9"
      },
      "execution_count": null,
      "outputs": []
    },
    {
      "cell_type": "markdown",
      "source": [
        "Отбираем проекты по месяцу завершения и пролонгации"
      ],
      "metadata": {
        "id": "0EVWX4ZjgfEd"
      }
    },
    {
      "cell_type": "code",
      "source": [
        "nov0_prolongations = prolongations[prolongations[\"month\"] == \"ноябрь 2022\"]\n",
        "dec0_prolongations = prolongations[prolongations[\"month\"] == \"декабрь 2022\"]\n",
        "jan_prolongations = prolongations[prolongations[\"month\"] == \"январь 2023\"]\n",
        "feb_prolongations = prolongations[prolongations[\"month\"] == \"февраль 2023\"]\n",
        "mar_prolongations = prolongations[prolongations[\"month\"] == \"март 2023\"]\n",
        "apr_prolongations = prolongations[prolongations[\"month\"] == \"апрель 2023\"]\n",
        "may_prolongations = prolongations[prolongations[\"month\"] == \"май 2023\"]\n",
        "jun_prolongations = prolongations[prolongations[\"month\"] == \"июнь 2023\"]\n",
        "jul_prolongations = prolongations[prolongations[\"month\"] == \"июль 2023\"]\n",
        "aug_prolongations = prolongations[prolongations[\"month\"] == \"август 2023\"]\n",
        "sep_prolongations = prolongations[prolongations[\"month\"] == \"сентябрь 2023\"]\n",
        "oct_prolongations = prolongations[prolongations[\"month\"] == \"октябрь 2023\"]\n",
        "nov_prolongations = prolongations[prolongations[\"month\"] == \"ноябрь 2023\"]\n",
        "dec_prolongations = prolongations[prolongations[\"month\"] == \"декабрь 2023\"]"
      ],
      "metadata": {
        "id": "dXm4WFL-geUz"
      },
      "execution_count": null,
      "outputs": []
    },
    {
      "cell_type": "code",
      "source": [
        "nov0_finanical_data = financial_data[financial_data[\"Ноябрь 2022\"] > 0]\n",
        "dec0_finanical_data = financial_data[financial_data[\"Декабрь 2022\"] > 0]\n",
        "jan_finanical_data = financial_data[financial_data[\"Январь 2023\"] > 0]\n",
        "feb_finanical_data = financial_data[financial_data[\"Февраль 2023\"] > 0]\n",
        "mar_finanical_data = financial_data[financial_data[\"Март 2023\"] > 0]\n",
        "apr_finanical_data = financial_data[financial_data[\"Апрель 2023\"] > 0]\n",
        "may_finanical_data = financial_data[financial_data[\"Май 2023\"] > 0]\n",
        "jun_finanical_data = financial_data[financial_data[\"Июнь 2023\"] > 0]\n",
        "jul_finanical_data = financial_data[financial_data[\"Июль 2023\"] > 0]\n",
        "aug_finanical_data = financial_data[financial_data[\"Август 2023\"] > 0]\n",
        "sep_finanical_data = financial_data[financial_data[\"Сентябрь 2023\"] > 0]\n",
        "oct_finanical_data = financial_data[financial_data[\"Октябрь 2023\"] > 0]\n",
        "nov_finanical_data = financial_data[financial_data[\"Ноябрь 2023\"] > 0]\n",
        "dec_finanical_data = financial_data[financial_data[\"Декабрь 2023\"] > 0]"
      ],
      "metadata": {
        "id": "ElzuFmiGhnsG"
      },
      "execution_count": null,
      "outputs": []
    },
    {
      "cell_type": "markdown",
      "source": [
        "Для расчёта коэффициентов нужно:\n",
        "1. Отобрать пролонгации по нужному месяцу.\n",
        "2. Выбрать данные, удовлетворяющие условиям, указанным в ТЗ.\n",
        "3. Объединить таблицы по ID.\n",
        "4. Поделить числа из таблиц, полученных в п. 2.\n",
        "5. Для лучшей читаемости переводим ряд Pandas в словарь."
      ],
      "metadata": {
        "id": "-2V2xlZwoM5C"
      }
    },
    {
      "cell_type": "markdown",
      "source": [
        "Считаем коэффициенты за январь 2023"
      ],
      "metadata": {
        "id": "dh1fWf7KUWfe"
      }
    },
    {
      "cell_type": "code",
      "source": [
        "nov01_finanical_data = nov0_finanical_data[nov0_finanical_data[\"Декабрь 2022\"] == 0]\n",
        "nov_report = nov0_prolongations.merge(nov01_finanical_data, on = \"id\")\n",
        "jan_nov_report = nov_report[nov_report[\"Январь 2023\"] > 0]\n",
        "nov_manager_report = nov_report.groupby(\"AM\")[\"Ноябрь 2022\"].sum()\n",
        "jan_nov_manager_report = jan_nov_report.groupby(\"AM\")[\"Ноябрь 2022\"].sum()\n",
        "nov_all_report = nov_report[\"Ноябрь 2022\"].sum()\n",
        "jan_nov_all_report = jan_nov_report[\"Ноябрь 2022\"].sum()\n",
        "coef_nov_jan_manager = (nov_manager_report / jan_nov_manager_report)\n",
        "coef_nov_jan_all = (nov_all_report / jan_nov_all_report)\n",
        "readable_coef_nov_jan_manager = coef_nov_jan_manager[coef_nov_jan_manager.notna()].to_dict()\n",
        "print(\"Коэффициенты для менеджеров:\")\n",
        "for key in readable_coef_nov_jan_manager.keys():\n",
        "  print(key, readable_coef_nov_jan_manager[key])\n",
        "print(\"Общий коэффициент:\", coef_nov_jan_all)"
      ],
      "metadata": {
        "colab": {
          "base_uri": "https://localhost:8080/"
        },
        "id": "_MVTogBDYuBM",
        "outputId": "b5fdac2f-eab9-4f9c-a156-bf51bf1672ff"
      },
      "execution_count": null,
      "outputs": [
        {
          "output_type": "stream",
          "name": "stdout",
          "text": [
            "Коэффициенты для менеджеров:\n",
            "Соколова Анастасия Викторовна 1.543112062812277\n",
            "Общий коэффициент: 7.780471092077088\n"
          ]
        }
      ]
    },
    {
      "cell_type": "code",
      "source": [
        "dec_report = dec0_prolongations.merge(dec0_finanical_data, on = \"id\")\n",
        "jan_dec_report = dec_report[dec_report[\"Январь 2023\"] > 0]\n",
        "dec_manager_report = dec_report.groupby(\"AM\")[\"Декабрь 2022\"].sum()\n",
        "jan_dec_manager_report = jan_dec_report.groupby(\"AM\")[\"Декабрь 2022\"].sum()\n",
        "dec_all_report = dec_report[\"Декабрь 2022\"].sum()\n",
        "jan_dec_all_report = jan_dec_report[\"Декабрь 2022\"].sum()\n",
        "coef_dec_jan_manager = (dec_manager_report / jan_dec_manager_report)\n",
        "coef_dec_jan_all = (dec_all_report / jan_dec_all_report)\n",
        "readable_coef_dec_jan_manager = coef_dec_jan_manager[coef_dec_jan_manager.notna()].to_dict()\n",
        "print(\"Коэффициенты для менеджеров:\")\n",
        "for key in readable_coef_dec_jan_manager.keys():\n",
        "  print(key, readable_coef_dec_jan_manager[key])\n",
        "print(\"Общий коэффициент:\", coef_dec_jan_all)"
      ],
      "metadata": {
        "colab": {
          "base_uri": "https://localhost:8080/"
        },
        "id": "E7mN82c7c5_s",
        "outputId": "e739fea9-50f1-4490-8bdb-667e94150bdc"
      },
      "execution_count": null,
      "outputs": [
        {
          "output_type": "stream",
          "name": "stdout",
          "text": [
            "Коэффициенты для менеджеров:\n",
            "Васильев Артем Александрович 2.1117192434050436\n",
            "Иванова Мария Сергеевна 2.3989324657467037\n",
            "Кузнецов Михаил Иванович 1.0\n",
            "Михайлов Андрей Сергеевич 1.2978903053873667\n",
            "Попова Екатерина Николаевна 2.306636809757492\n",
            "Смирнова Ольга Владимировна 1.3425925925925926\n",
            "Соколова Анастасия Викторовна 1.9610849385919336\n",
            "Общий коэффициент: 2.004338492153129\n"
          ]
        }
      ]
    },
    {
      "cell_type": "markdown",
      "source": [
        "Cчитаем коэффициенты за февраль 2023\n"
      ],
      "metadata": {
        "id": "Zmjy95o4gNeW"
      }
    },
    {
      "cell_type": "code",
      "source": [
        "dec01_finanical_data = dec0_finanical_data[dec0_finanical_data[\"Январь 2023\"] == 0]\n",
        "dec_report = dec0_prolongations.merge(dec01_finanical_data, on = \"id\")\n",
        "feb_dec_report = dec_report[dec_report[\"Февраль 2023\"] > 0]\n",
        "dec_manager_report = dec_report.groupby(\"AM\")[\"Декабрь 2022\"].sum()\n",
        "feb_dec_manager_report = feb_dec_report.groupby(\"AM\")[\"Декабрь 2022\"].sum()\n",
        "dec_all_report = dec_report[\"Декабрь 2022\"].sum()\n",
        "feb_dec_all_report = feb_dec_report[\"Декабрь 2022\"].sum()\n",
        "coef_dec_feb_manager = (dec_manager_report / feb_dec_manager_report)\n",
        "coef_dec_feb_all = (dec_all_report / feb_dec_all_report)\n",
        "readable_coef_dec_feb_manager = coef_dec_feb_manager[coef_dec_feb_manager.notna()].to_dict()\n",
        "print(\"Коэффициенты для менеджеров:\")\n",
        "for key in readable_coef_dec_feb_manager.keys():\n",
        "  print(key, readable_coef_dec_feb_manager[key])\n",
        "print(\"Общий коэффициент:\", coef_dec_feb_all)"
      ],
      "metadata": {
        "colab": {
          "base_uri": "https://localhost:8080/"
        },
        "id": "y9JTlI0pgI86",
        "outputId": "9158770c-aa21-4216-c509-8fb86036f225"
      },
      "execution_count": null,
      "outputs": [
        {
          "output_type": "stream",
          "name": "stdout",
          "text": [
            "Коэффициенты для менеджеров:\n",
            "Васильев Артем Александрович 7.06847739888977\n",
            "Соколова Анастасия Викторовна 4.734634446210917\n",
            "Общий коэффициент: 13.607905466092083\n"
          ]
        }
      ]
    },
    {
      "cell_type": "code",
      "source": [
        "jan_report = jan_prolongations.merge(jan_finanical_data, on = \"id\")\n",
        "feb_jan_report = jan_report[jan_report[\"Февраль 2023\"] > 0]\n",
        "jan_manager_report = jan_report.groupby(\"AM\")[\"Январь 2023\"].sum()\n",
        "feb_jan_manager_report = feb_jan_report.groupby(\"AM\")[\"Январь 2023\"].sum()\n",
        "jan_all_report = jan_report[\"Январь 2023\"].sum()\n",
        "feb_jan_all_report = feb_jan_report[\"Январь 2023\"].sum()\n",
        "coef_jan_feb_manager = (jan_manager_report / feb_jan_manager_report)\n",
        "coef_jan_feb_all = (jan_all_report / feb_jan_all_report)\n",
        "readable_coef_jan_feb_manager = coef_jan_feb_manager[coef_jan_feb_manager.notna()].to_dict()\n",
        "print(\"Коэффициенты для менеджеров:\")\n",
        "for key in readable_coef_jan_feb_manager.keys():\n",
        "  print(key, readable_coef_jan_feb_manager[key])\n",
        "print(\"Общий коэффициент:\", coef_jan_feb_all)"
      ],
      "metadata": {
        "colab": {
          "base_uri": "https://localhost:8080/"
        },
        "id": "1bktG2Ene5ph",
        "outputId": "4d397f38-d56b-477f-ec16-71492c573b0f"
      },
      "execution_count": null,
      "outputs": [
        {
          "output_type": "stream",
          "name": "stdout",
          "text": [
            "Коэффициенты для менеджеров:\n",
            "Васильев Артем Александрович 1.1449714220825922\n",
            "Кузнецов Михаил Иванович 2.0\n",
            "Михайлов Андрей Сергеевич 1.0\n",
            "Соколова Анастасия Викторовна 6.242505341880342\n",
            "Общий коэффициент: 1.5104536115156084\n"
          ]
        }
      ]
    },
    {
      "cell_type": "markdown",
      "source": [
        "Считаем коэффициенты за март 2023"
      ],
      "metadata": {
        "id": "KoHP5NwpkmZc"
      }
    },
    {
      "cell_type": "code",
      "source": [
        "jan1_finanical_data = jan_finanical_data[jan_finanical_data[\"Февраль 2023\"] == 0]\n",
        "jan_report = jan_prolongations.merge(jan1_finanical_data, on = \"id\")\n",
        "mar_jan_report = jan_report[jan_report[\"Март 2023\"] > 0]\n",
        "jan_manager_report = jan_report.groupby(\"AM\")[\"Январь 2023\"].sum()\n",
        "mar_jan_manager_report = mar_jan_report.groupby(\"AM\")[\"Январь 2023\"].sum()\n",
        "jan_all_report = jan_report[\"Январь 2023\"].sum()\n",
        "mar_jan_all_report = mar_jan_report[\"Январь 2023\"].sum()\n",
        "coef_jan_mar_manager = (jan_manager_report / mar_jan_manager_report)\n",
        "coef_jan_mar_all = (jan_all_report / mar_jan_all_report)\n",
        "readable_coef_jan_mar_manager = coef_jan_mar_manager[coef_jan_mar_manager.notna()].to_dict()\n",
        "print(\"Коэффициенты для менеджеров:\")\n",
        "for key in readable_coef_jan_mar_manager.keys():\n",
        "  print(key, readable_coef_jan_mar_manager[key])\n",
        "print(\"Общий коэффициент:\", coef_jan_mar_all)"
      ],
      "metadata": {
        "colab": {
          "base_uri": "https://localhost:8080/"
        },
        "id": "8-Y4GVt8gOAQ",
        "outputId": "4fa0c1fc-5c4a-4b31-97ea-69e793746a1a"
      },
      "execution_count": null,
      "outputs": [
        {
          "output_type": "stream",
          "name": "stdout",
          "text": [
            "Коэффициенты для менеджеров:\n",
            "Васильев Артем Александрович 2.7474892395982784\n",
            "Смирнова Ольга Владимировна 1.2990527740189446\n",
            "Общий коэффициент: 11.997952646239554\n"
          ]
        }
      ]
    },
    {
      "cell_type": "code",
      "source": [
        "feb_report = feb_prolongations.merge(feb_finanical_data, on = \"id\")\n",
        "mar_feb_report = feb_report[feb_report[\"Март 2023\"] > 0]\n",
        "feb_manager_report = feb_report.groupby(\"AM\")[\"Февраль 2023\"].sum()\n",
        "mar_feb_manager_report = mar_feb_report.groupby(\"AM\")[\"Февраль 2023\"].sum()\n",
        "feb_all_report = feb_report[\"Февраль 2023\"].sum()\n",
        "mar_feb_all_report = mar_feb_report[\"Февраль 2023\"].sum()\n",
        "coef_feb_mar_manager = (feb_manager_report / mar_feb_manager_report)\n",
        "coef_feb_mar_all = (feb_all_report / mar_feb_all_report)\n",
        "readable_coef_feb_mar_manager = coef_feb_mar_manager[coef_feb_mar_manager.notna()].to_dict()\n",
        "print(\"Коэффициенты для менеджеров:\")\n",
        "for key in readable_coef_feb_mar_manager.keys():\n",
        "  print(key, readable_coef_feb_mar_manager[key])\n",
        "print(\"Общий коэффициент:\", coef_feb_mar_all)"
      ],
      "metadata": {
        "colab": {
          "base_uri": "https://localhost:8080/"
        },
        "id": "xDybpNizgOC-",
        "outputId": "cf08ace7-2e39-4045-855e-41ea20abbf5f"
      },
      "execution_count": null,
      "outputs": [
        {
          "output_type": "stream",
          "name": "stdout",
          "text": [
            "Коэффициенты для менеджеров:\n",
            "Васильев Артем Александрович 1.5820764680420745\n",
            "Иванова Мария Сергеевна 2.2417782225096707\n",
            "Михайлов Андрей Сергеевич 1.0\n",
            "Попова Екатерина Николаевна 1.3204973442781265\n",
            "Соколова Анастасия Викторовна 1.1732394935889658\n",
            "Общий коэффициент: 1.4936584624554665\n"
          ]
        }
      ]
    },
    {
      "cell_type": "markdown",
      "source": [
        "Считаем коэффициенты за апрель 2023"
      ],
      "metadata": {
        "id": "9XtMCyCSlwZf"
      }
    },
    {
      "cell_type": "code",
      "source": [
        "feb1_finanical_data = feb_finanical_data[feb_finanical_data[\"Март 2023\"] == 0]\n",
        "feb_report = feb_prolongations.merge(feb1_finanical_data, on = \"id\")\n",
        "apr_feb_report = feb_report[feb_report[\"Апрель 2023\"] > 0]\n",
        "feb_manager_report = feb_report.groupby(\"AM\")[\"Февраль 2023\"].sum()\n",
        "apr_feb_manager_report = apr_feb_report.groupby(\"AM\")[\"Февраль 2023\"].sum()\n",
        "feb_all_report = feb_report[\"Февраль 2023\"].sum()\n",
        "apr_feb_all_report = apr_feb_report[\"Февраль 2023\"].sum()\n",
        "coef_feb_apr_manager = (feb_manager_report / apr_feb_manager_report)\n",
        "coef_feb_apr_all = (feb_all_report / apr_feb_all_report)\n",
        "readable_coef_feb_apr_manager = coef_feb_apr_manager[coef_feb_apr_manager.notna()].to_dict()\n",
        "print(\"Коэффициенты для менеджеров:\")\n",
        "for key in readable_coef_feb_apr_manager.keys():\n",
        "  print(key, readable_coef_feb_apr_manager[key])\n",
        "print(\"Общий коэффициент:\", coef_feb_apr_all)"
      ],
      "metadata": {
        "colab": {
          "base_uri": "https://localhost:8080/"
        },
        "id": "by3IrbSfgOFV",
        "outputId": "f73a5a3b-c102-4d48-916f-e902ddfa5bb7"
      },
      "execution_count": null,
      "outputs": [
        {
          "output_type": "stream",
          "name": "stdout",
          "text": [
            "Коэффициенты для менеджеров:\n",
            "Васильев Артем Александрович 9.07412935323383\n",
            "Попова Екатерина Николаевна 6.253364737550471\n",
            "Общий коэффициент: 11.400926262259354\n"
          ]
        }
      ]
    },
    {
      "cell_type": "code",
      "source": [
        "mar_report = mar_prolongations.merge(mar_finanical_data, on = \"id\")\n",
        "apr_mar_report = mar_report[mar_report[\"Апрель 2023\"] > 0]\n",
        "mar_manager_report = mar_report.groupby(\"AM\")[\"Март 2023\"].sum()\n",
        "apr_mar_manager_report = apr_mar_report.groupby(\"AM\")[\"Март 2023\"].sum()\n",
        "mar_all_report = mar_report[\"Март 2023\"].sum()\n",
        "apr_mar_all_report = apr_mar_report[\"Март 2023\"].sum()\n",
        "coef_mar_apr_manager = (mar_manager_report / apr_mar_manager_report)\n",
        "coef_mar_apr_all = (mar_all_report / apr_mar_all_report)\n",
        "readable_coef_mar_apr_manager = coef_mar_apr_manager[coef_mar_apr_manager.notna()].to_dict()\n",
        "print(\"Коэффициенты для менеджеров:\")\n",
        "for key in readable_coef_mar_apr_manager.keys():\n",
        "  print(key, readable_coef_mar_apr_manager[key])\n",
        "print(\"Общий коэффициент:\", coef_mar_apr_all)"
      ],
      "metadata": {
        "colab": {
          "base_uri": "https://localhost:8080/"
        },
        "id": "VDgsVl1rgOH6",
        "outputId": "37cd7eb3-5483-4370-80c1-86593913fcd1"
      },
      "execution_count": null,
      "outputs": [
        {
          "output_type": "stream",
          "name": "stdout",
          "text": [
            "Коэффициенты для менеджеров:\n",
            "Васильев Артем Александрович 2.7329316525271836\n",
            "Иванова Мария Сергеевна 2.394792907166035\n",
            "Михайлов Андрей Сергеевич 1.0\n",
            "Попова Екатерина Николаевна 3.483641148976721\n",
            "Смирнова Ольга Владимировна 1.0\n",
            "Соколова Анастасия Викторовна 1.1428190375668994\n",
            "Общий коэффициент: 2.1667209938477554\n"
          ]
        }
      ]
    },
    {
      "cell_type": "markdown",
      "source": [
        "Считаем коэффициенты за май 2023"
      ],
      "metadata": {
        "id": "fPXxpf9xrCel"
      }
    },
    {
      "cell_type": "code",
      "source": [
        "mar1_finanical_data = mar_finanical_data[mar_finanical_data[\"Апрель 2023\"] == 0]\n",
        "mar_report = mar_prolongations.merge(mar1_finanical_data, on = \"id\")\n",
        "may_mar_report = mar_report[mar_report[\"Май 2023\"] > 0]\n",
        "mar_manager_report = mar_report.groupby(\"AM\")[\"Март 2023\"].sum()\n",
        "may_mar_manager_report = may_mar_report.groupby(\"AM\")[\"Март 2023\"].sum()\n",
        "mar_all_report = mar_report[\"Март 2023\"].sum()\n",
        "may_mar_all_report = may_mar_report[\"Март 2023\"].sum()\n",
        "coef_mar_may_manager = (mar_manager_report / may_mar_manager_report)\n",
        "coef_mar_may_all = (mar_all_report / may_mar_all_report)\n",
        "readable_coef_mar_may_manager = coef_mar_may_manager[coef_mar_may_manager.notna()].to_dict()\n",
        "print(\"Коэффициенты для менеджеров:\")\n",
        "for key in readable_coef_mar_may_manager.keys():\n",
        "  print(key, readable_coef_mar_may_manager[key])\n",
        "print(\"Общий коэффициент:\", coef_mar_may_all)"
      ],
      "metadata": {
        "colab": {
          "base_uri": "https://localhost:8080/"
        },
        "id": "VoTSH6U_gOKV",
        "outputId": "10978f57-3d08-4295-81fe-6430b8a3658c"
      },
      "execution_count": null,
      "outputs": [
        {
          "output_type": "stream",
          "name": "stdout",
          "text": [
            "Коэффициенты для менеджеров:\n",
            "Васильев Артем Александрович 98.04417864610244\n",
            "Общий коэффициент: 175.65450454148177\n"
          ]
        }
      ]
    },
    {
      "cell_type": "code",
      "source": [
        "apr_report = apr_prolongations.merge(apr_finanical_data, on = \"id\")\n",
        "may_apr_report = apr_report[apr_report[\"Май 2023\"] > 0]\n",
        "apr_manager_report = apr_report.groupby(\"AM\")[\"Апрель 2023\"].sum()\n",
        "may_apr_manager_report = may_apr_report.groupby(\"AM\")[\"Апрель 2023\"].sum()\n",
        "apr_all_report = apr_report[\"Апрель 2023\"].sum()\n",
        "may_apr_all_report = may_apr_report[\"Апрель 2023\"].sum()\n",
        "coef_apr_may_manager = (apr_manager_report / may_apr_manager_report)\n",
        "coef_apr_may_all = (apr_all_report / may_apr_all_report)\n",
        "readable_coef_apr_may_manager = coef_apr_may_manager[coef_apr_may_manager.notna()].to_dict()\n",
        "print(\"Коэффициенты для менеджеров:\")\n",
        "for key in readable_coef_apr_may_manager.keys():\n",
        "  print(key, readable_coef_apr_may_manager[key])\n",
        "print(\"Общий коэффициент:\", coef_apr_may_all)"
      ],
      "metadata": {
        "colab": {
          "base_uri": "https://localhost:8080/"
        },
        "id": "lMdkMTzUgOM-",
        "outputId": "30dbc947-9006-47ea-c9e3-78b840fe2cd2"
      },
      "execution_count": null,
      "outputs": [
        {
          "output_type": "stream",
          "name": "stdout",
          "text": [
            "Коэффициенты для менеджеров:\n",
            "Васильев Артем Александрович 1.4240088401796795\n",
            "Иванова Мария Сергеевна 1.0\n",
            "Михайлов Андрей Сергеевич 1.0\n",
            "Попова Екатерина Николаевна 1.4187098055390068\n",
            "Соколова Анастасия Викторовна 4.136959294908964\n",
            "Общий коэффициент: 1.423846595864117\n"
          ]
        }
      ]
    },
    {
      "cell_type": "markdown",
      "source": [
        "Считаем коэффициенты за июнь 2023"
      ],
      "metadata": {
        "id": "rR5j_cvPr85y"
      }
    },
    {
      "cell_type": "code",
      "source": [
        "apr1_finanical_data = apr_finanical_data[apr_finanical_data[\"Май 2023\"] == 0]\n",
        "apr_report = apr_prolongations.merge(apr1_finanical_data, on = \"id\")\n",
        "jun_apr_report = apr_report[apr_report[\"Июнь 2023\"] > 0]\n",
        "apr_manager_report = apr_report.groupby(\"AM\")[\"Апрель 2023\"].sum()\n",
        "jun_apr_manager_report = jun_apr_report.groupby(\"AM\")[\"Апрель 2023\"].sum()\n",
        "apr_all_report = apr_report[\"Апрель 2023\"].sum()\n",
        "jun_apr_all_report = jun_apr_report[\"Апрель 2023\"].sum()\n",
        "coef_apr_jun_manager = (apr_manager_report / jun_apr_manager_report)\n",
        "coef_apr_jun_all = (apr_all_report / jun_apr_all_report)\n",
        "readable_coef_apr_jun_manager = coef_apr_jun_manager[coef_apr_jun_manager.notna()].to_dict()\n",
        "print(\"Коэффициенты для менеджеров:\")\n",
        "for key in readable_coef_apr_jun_manager.keys():\n",
        "  print(key, readable_coef_apr_jun_manager[key])\n",
        "print(\"Общий коэффициент:\", coef_apr_jun_all)"
      ],
      "metadata": {
        "colab": {
          "base_uri": "https://localhost:8080/"
        },
        "id": "l9Ceij8PgOPV",
        "outputId": "0f723a53-2aac-4c82-f41c-42cdd5ce6a81"
      },
      "execution_count": null,
      "outputs": [
        {
          "output_type": "stream",
          "name": "stdout",
          "text": [
            "Коэффициенты для менеджеров:\n",
            "Васильев Артем Александрович 17.555387303436227\n",
            "Общий коэффициент: 28.104795185400892\n"
          ]
        }
      ]
    },
    {
      "cell_type": "code",
      "source": [
        "may_report = may_prolongations.merge(may_finanical_data, on = \"id\")\n",
        "jun_may_report = may_report[may_report[\"Июнь 2023\"] > 0]\n",
        "may_manager_report = may_report.groupby(\"AM\")[\"Май 2023\"].sum()\n",
        "jun_may_manager_report = jun_may_report.groupby(\"AM\")[\"Май 2023\"].sum()\n",
        "may_all_report = may_report[\"Май 2023\"].sum()\n",
        "jun_may_all_report = jun_may_report[\"Май 2023\"].sum()\n",
        "coef_may_jun_manager = (may_manager_report / jun_may_manager_report)\n",
        "coef_may_jun_all = (may_all_report / jun_may_all_report)\n",
        "readable_coef_may_jun_manager = coef_may_jun_manager[coef_may_jun_manager.notna()].to_dict()\n",
        "print(\"Коэффициенты для менеджеров:\")\n",
        "for key in readable_coef_may_jun_manager.keys():\n",
        "  print(key, readable_coef_may_jun_manager[key])\n",
        "print(\"Общий коэффициент:\", coef_may_jun_all)"
      ],
      "metadata": {
        "colab": {
          "base_uri": "https://localhost:8080/"
        },
        "id": "yNRSqcY4gOSF",
        "outputId": "3d44cabc-0243-4e3b-bf44-b3d4c392adbb"
      },
      "execution_count": null,
      "outputs": [
        {
          "output_type": "stream",
          "name": "stdout",
          "text": [
            "Коэффициенты для менеджеров:\n",
            "Васильев Артем Александрович 2.445401002506266\n",
            "Соколова Анастасия Викторовна 1.7875395987328406\n",
            "Общий коэффициент: 5.012290719622494\n"
          ]
        }
      ]
    },
    {
      "cell_type": "markdown",
      "source": [
        "Считаем коэффициенты за июль 2023"
      ],
      "metadata": {
        "id": "0gI0SEQrsmAT"
      }
    },
    {
      "cell_type": "code",
      "source": [
        "may1_finanical_data = may_finanical_data[may_finanical_data[\"Июнь 2023\"] == 0]\n",
        "may_report = may_prolongations.merge(may1_finanical_data, on = \"id\")\n",
        "jul_may_report = may_report[may_report[\"Июль 2023\"] > 0]\n",
        "may_manager_report = may_report.groupby(\"AM\")[\"Май 2023\"].sum()\n",
        "jul_may_manager_report = jul_may_report.groupby(\"AM\")[\"Май 2023\"].sum()\n",
        "may_all_report = may_report[\"Май 2023\"].sum()\n",
        "jul_may_all_report = jul_may_report[\"Май 2023\"].sum()\n",
        "coef_may_jul_manager = (may_manager_report / jul_may_manager_report)\n",
        "coef_may_jul_all = (may_all_report / jul_may_all_report)\n",
        "readable_coef_may_jul_manager = coef_may_jul_manager[coef_may_jul_manager.notna()].to_dict()\n",
        "print(\"Коэффициенты для менеджеров:\")\n",
        "for key in readable_coef_may_jul_manager.keys():\n",
        "  print(key, readable_coef_may_jul_manager[key])\n",
        "print(\"Общий коэффициент:\", coef_may_jul_all)"
      ],
      "metadata": {
        "colab": {
          "base_uri": "https://localhost:8080/"
        },
        "id": "hUBlM13-gOUs",
        "outputId": "71d4cb3a-e141-407c-fce0-6a0febb70bf4"
      },
      "execution_count": null,
      "outputs": [
        {
          "output_type": "stream",
          "name": "stdout",
          "text": [
            "Коэффициенты для менеджеров:\n",
            "Смирнова Ольга Владимировна 1.9282009086167948\n",
            "Общий коэффициент: 14.638953304442579\n"
          ]
        }
      ]
    },
    {
      "cell_type": "code",
      "source": [
        "jun_report = jun_prolongations.merge(jun_finanical_data, on = \"id\")\n",
        "jul_jun_report = jun_report[jun_report[\"Июль 2023\"] > 0]\n",
        "jun_manager_report = jun_report.groupby(\"AM\")[\"Июнь 2023\"].sum()\n",
        "jul_jun_manager_report = jul_jun_report.groupby(\"AM\")[\"Июнь 2023\"].sum()\n",
        "jun_all_report = jun_report[\"Июнь 2023\"].sum()\n",
        "jul_jun_all_report = jul_jun_report[\"Июнь 2023\"].sum()\n",
        "coef_jun_jul_manager = (jun_manager_report / jul_jun_manager_report)\n",
        "coef_jun_jul_all = (jun_all_report / jul_jun_all_report)\n",
        "readable_coef_jun_jul_manager = coef_jun_jul_manager[coef_jun_jul_manager.notna()].to_dict()\n",
        "print(\"Коэффициенты для менеджеров:\")\n",
        "for key in readable_coef_jun_jul_manager.keys():\n",
        "  print(key, readable_coef_jun_jul_manager[key])\n",
        "print(\"Общий коэффициент:\", coef_jun_jul_all)"
      ],
      "metadata": {
        "colab": {
          "base_uri": "https://localhost:8080/"
        },
        "id": "bsn5qqJCgOXi",
        "outputId": "b3db528c-dc63-4947-c15e-14b5a54decdb"
      },
      "execution_count": null,
      "outputs": [
        {
          "output_type": "stream",
          "name": "stdout",
          "text": [
            "Коэффициенты для менеджеров:\n",
            "Васильев Артем Александрович 2.23975908456152\n",
            "Иванова Мария Сергеевна 2.764028858994821\n",
            "Михайлов Андрей Сергеевич 1.0\n",
            "Попова Екатерина Николаевна 7.260500396241367\n",
            "Соколова Анастасия Викторовна 1.9548323779358954\n",
            "Общий коэффициент: 2.337681291661919\n"
          ]
        }
      ]
    },
    {
      "cell_type": "markdown",
      "source": [
        "Считаем коэффициенты за август 2023"
      ],
      "metadata": {
        "id": "xd8RHf4JsmtY"
      }
    },
    {
      "cell_type": "code",
      "source": [
        "jun1_finanical_data = jun_finanical_data[jun_finanical_data[\"Июль 2023\"] == 0]\n",
        "jun_report = jun_prolongations.merge(jun1_finanical_data, on = \"id\")\n",
        "aug_jun_report = jun_report[jun_report[\"Август 2023\"] > 0]\n",
        "jun_manager_report = jun_report.groupby(\"AM\")[\"Июнь 2023\"].sum()\n",
        "aug_jun_manager_report = aug_jun_report.groupby(\"AM\")[\"Июнь 2023\"].sum()\n",
        "jun_all_report = jun_report[\"Июнь 2023\"].sum()\n",
        "aug_jun_all_report = aug_jun_report[\"Июнь 2023\"].sum()\n",
        "coef_jun_aug_manager = (jun_manager_report / aug_jun_manager_report)\n",
        "coef_jun_aug_all = (jun_all_report / aug_jun_all_report)\n",
        "readable_coef_jun_aug_manager = coef_jun_aug_manager[coef_jun_aug_manager.notna()].to_dict()\n",
        "print(\"Коэффициенты для менеджеров:\")\n",
        "for key in readable_coef_jun_aug_manager.keys():\n",
        "  print(key, readable_coef_jun_aug_manager[key])\n",
        "print(\"Общий коэффициент:\", coef_jun_aug_all)"
      ],
      "metadata": {
        "colab": {
          "base_uri": "https://localhost:8080/"
        },
        "id": "RyfkFEGGsm89",
        "outputId": "59d98163-0bd7-47b9-f596-0e42f578b061"
      },
      "execution_count": null,
      "outputs": [
        {
          "output_type": "stream",
          "name": "stdout",
          "text": [
            "Коэффициенты для менеджеров:\n",
            "Смирнова Ольга Владимировна 1.0\n",
            "Общий коэффициент: 44.60902033546089\n"
          ]
        }
      ]
    },
    {
      "cell_type": "code",
      "source": [
        "jul_report = jul_prolongations.merge(jul_finanical_data, on = \"id\")\n",
        "aug_jul_report = jul_report[jul_report[\"Август 2023\"] > 0]\n",
        "jul_manager_report = jul_report.groupby(\"AM\")[\"Июль 2023\"].sum()\n",
        "aug_jul_manager_report = aug_jul_report.groupby(\"AM\")[\"Июль 2023\"].sum()\n",
        "jul_all_report = jul_report[\"Июль 2023\"].sum()\n",
        "aug_jul_all_report = aug_jul_report[\"Июль 2023\"].sum()\n",
        "coef_jul_aug_manager = (jul_manager_report / aug_jul_manager_report)\n",
        "coef_jul_aug_all = (jul_all_report / aug_jul_all_report)\n",
        "readable_coef_jul_aug_manager = coef_jul_aug_manager[coef_jul_aug_manager.notna()].to_dict()\n",
        "print(\"Коэффициенты для менеджеров:\")\n",
        "for key in readable_coef_jul_aug_manager.keys():\n",
        "  print(key, readable_coef_jul_aug_manager[key])\n",
        "print(\"Общий коэффициент:\", coef_jul_aug_all)"
      ],
      "metadata": {
        "colab": {
          "base_uri": "https://localhost:8080/"
        },
        "id": "eEpt75aAsm_1",
        "outputId": "b891b1f4-5725-4f0f-ccde-38516ef89aac"
      },
      "execution_count": null,
      "outputs": [
        {
          "output_type": "stream",
          "name": "stdout",
          "text": [
            "Коэффициенты для менеджеров:\n",
            "Васильев Артем Александрович 1.732977303070761\n",
            "Иванова Мария Сергеевна 2.1461641399816953\n",
            "Попова Екатерина Николаевна 2.1718968426126777\n",
            "Смирнова Ольга Владимировна 2.6353556296763725\n",
            "Соколова Анастасия Викторовна 1.8823567857430852\n",
            "Общий коэффициент: 1.9793547799663016\n"
          ]
        }
      ]
    },
    {
      "cell_type": "markdown",
      "source": [
        "Считаем коэффициенты за сентябрь 2023"
      ],
      "metadata": {
        "id": "DBgTcKalsnRx"
      }
    },
    {
      "cell_type": "code",
      "source": [
        "jul1_finanical_data = jul_finanical_data[jul_finanical_data[\"Август 2023\"] == 0]\n",
        "jul_report = jul_prolongations.merge(jul1_finanical_data, on = \"id\")\n",
        "sep_jul_report = jul_report[jul_report[\"Сентябрь 2023\"] > 0]\n",
        "jul_manager_report = jul_report.groupby(\"AM\")[\"Июль 2023\"].sum()\n",
        "sep_jul_manager_report = sep_jul_report.groupby(\"AM\")[\"Июль 2023\"].sum()\n",
        "jul_all_report = jul_report[\"Июль 2023\"].sum()\n",
        "sep_jul_all_report = sep_jul_report[\"Июль 2023\"].sum()\n",
        "coef_jul_sep_manager = (jul_manager_report / sep_jul_manager_report)\n",
        "coef_jul_sep_all = (jul_all_report / sep_jul_all_report)\n",
        "readable_coef_jul_sep_manager = coef_jul_sep_manager[coef_jul_sep_manager.notna()].to_dict()\n",
        "print(\"Коэффициенты для менеджеров:\")\n",
        "for key in readable_coef_jul_sep_manager.keys():\n",
        "  print(key, readable_coef_jul_sep_manager[key])\n",
        "print(\"Общий коэффициент:\", coef_jul_sep_all)"
      ],
      "metadata": {
        "colab": {
          "base_uri": "https://localhost:8080/"
        },
        "id": "ef5f99wosnrt",
        "outputId": "0c334b45-798c-4739-a9d3-b4460f5bf4f0"
      },
      "execution_count": null,
      "outputs": [
        {
          "output_type": "stream",
          "name": "stdout",
          "text": [
            "Коэффициенты для менеджеров:\n",
            "Общий коэффициент: inf\n"
          ]
        },
        {
          "output_type": "stream",
          "name": "stderr",
          "text": [
            "/tmp/ipython-input-409623879.py:9: RuntimeWarning: divide by zero encountered in scalar divide\n",
            "  coef_jul_sep_all = (jul_all_report / sep_jul_all_report)\n"
          ]
        }
      ]
    },
    {
      "cell_type": "code",
      "source": [
        "aug_report = aug_prolongations.merge(aug_finanical_data, on = \"id\")\n",
        "sep_aug_report = aug_report[aug_report[\"Сентябрь 2023\"] > 0]\n",
        "aug_manager_report = aug_report.groupby(\"AM\")[\"Август 2023\"].sum()\n",
        "sep_aug_manager_report = sep_aug_report.groupby(\"AM\")[\"Август 2023\"].sum()\n",
        "aug_all_report = aug_report[\"Август 2023\"].sum()\n",
        "sep_aug_all_report = sep_aug_report[\"Август 2023\"].sum()\n",
        "coef_aug_sep_manager = (aug_manager_report / sep_aug_manager_report)\n",
        "coef_aug_sep_all = (aug_all_report / sep_aug_all_report)\n",
        "readable_coef_aug_sep_manager = coef_aug_sep_manager[coef_aug_sep_manager.notna()].to_dict()\n",
        "print(\"Коэффициенты для менеджеров:\")\n",
        "for key in readable_coef_aug_sep_manager.keys():\n",
        "  print(key, readable_coef_aug_sep_manager[key])\n",
        "print(\"Общий коэффициент:\", coef_aug_sep_all)"
      ],
      "metadata": {
        "colab": {
          "base_uri": "https://localhost:8080/"
        },
        "id": "K2RtnWHpsnuo",
        "outputId": "eedda7ac-cdd3-49b5-cf2d-b150bbc4a369"
      },
      "execution_count": null,
      "outputs": [
        {
          "output_type": "stream",
          "name": "stdout",
          "text": [
            "Коэффициенты для менеджеров:\n",
            "Васильев Артем Александрович 6.013454453299051\n",
            "Иванова Мария Сергеевна 1.0\n",
            "Попова Екатерина Николаевна 2.272062735663559\n",
            "Смирнова Ольга Владимировна 1.5008450656553538\n",
            "Соколова Анастасия Викторовна 3.141133294472918\n",
            "Общий коэффициент: 3.0975301972501583\n"
          ]
        }
      ]
    },
    {
      "cell_type": "markdown",
      "source": [
        "Считаем коэффициенты за октябрь 2023"
      ],
      "metadata": {
        "id": "_1hJ-oIksn9p"
      }
    },
    {
      "cell_type": "code",
      "source": [
        "aug1_finanical_data = aug_finanical_data[aug_finanical_data[\"Сентябрь 2023\"] == 0]\n",
        "aug_report = aug_prolongations.merge(aug1_finanical_data, on = \"id\")\n",
        "oct_aug_report = aug_report[aug_report[\"Октябрь 2023\"] > 0]\n",
        "aug_manager_report = aug_report.groupby(\"AM\")[\"Август 2023\"].sum()\n",
        "oct_aug_manager_report = oct_aug_report.groupby(\"AM\")[\"Август 2023\"].sum()\n",
        "aug_all_report = aug_report[\"Август 2023\"].sum()\n",
        "oct_aug_all_report = oct_aug_report[\"Август 2023\"].sum()\n",
        "coef_aug_oct_manager = (aug_manager_report / oct_aug_manager_report)\n",
        "coef_aug_oct_all = (aug_all_report / oct_aug_all_report)\n",
        "readable_coef_aug_oct_manager = coef_aug_oct_manager[coef_aug_oct_manager.notna()].to_dict()\n",
        "print(\"Коэффициенты для менеджеров:\")\n",
        "for key in readable_coef_aug_oct_manager.keys():\n",
        "  print(key, readable_coef_aug_oct_manager[key])\n",
        "print(\"Общий коэффициент:\", coef_aug_oct_all)"
      ],
      "metadata": {
        "colab": {
          "base_uri": "https://localhost:8080/"
        },
        "id": "TiBnnxGysoIF",
        "outputId": "b00d71e0-c9f8-40b8-d533-488f0ae9bb87"
      },
      "execution_count": null,
      "outputs": [
        {
          "output_type": "stream",
          "name": "stdout",
          "text": [
            "Коэффициенты для менеджеров:\n",
            "Васильев Артем Александрович 13.805947458039407\n",
            "Попова Екатерина Николаевна 1.969203222918532\n",
            "Общий коэффициент: 9.895851247492619\n"
          ]
        }
      ]
    },
    {
      "cell_type": "code",
      "source": [
        "sep_report = sep_prolongations.merge(sep_finanical_data, on = \"id\")\n",
        "oct_sep_report = sep_report[sep_report[\"Октябрь 2023\"] > 0]\n",
        "sep_manager_report = sep_report.groupby(\"AM\")[\"Сентябрь 2023\"].sum()\n",
        "oct_sep_manager_report = oct_sep_report.groupby(\"AM\")[\"Сентябрь 2023\"].sum()\n",
        "sep_all_report = sep_report[\"Сентябрь 2023\"].sum()\n",
        "oct_sep_all_report = oct_sep_report[\"Сентябрь 2023\"].sum()\n",
        "coef_sep_oct_manager = (sep_manager_report / oct_sep_manager_report)\n",
        "coef_sep_oct_all = (sep_all_report / oct_sep_all_report)\n",
        "readable_coef_sep_oct_manager = coef_sep_oct_manager[coef_sep_oct_manager.notna()].to_dict()\n",
        "print(\"Коэффициенты для менеджеров:\")\n",
        "for key in readable_coef_sep_oct_manager.keys():\n",
        "  print(key, readable_coef_sep_oct_manager[key])\n",
        "print(\"Общий коэффициент:\", coef_sep_oct_all)"
      ],
      "metadata": {
        "colab": {
          "base_uri": "https://localhost:8080/"
        },
        "id": "KL2UJEy-soLV",
        "outputId": "73868974-c01e-4371-e565-2bdced049d45"
      },
      "execution_count": null,
      "outputs": [
        {
          "output_type": "stream",
          "name": "stdout",
          "text": [
            "Коэффициенты для менеджеров:\n",
            "Васильев Артем Александрович 2.1419537316220616\n",
            "Кузнецов Михаил Иванович 1.0\n",
            "Михайлов Андрей Сергеевич 2.0245941879198712\n",
            "Попова Екатерина Николаевна 1.1832899610077674\n",
            "Смирнова Ольга Владимировна 1.255064458383167\n",
            "Соколова Анастасия Викторовна 1.4698449167330068\n",
            "Общий коэффициент: 1.4414086584879742\n"
          ]
        }
      ]
    },
    {
      "cell_type": "markdown",
      "source": [
        "Считаем коэффициенты за ноябрь 2023"
      ],
      "metadata": {
        "id": "XNaDUKaqsoZp"
      }
    },
    {
      "cell_type": "code",
      "source": [
        "sep1_finanical_data = sep_finanical_data[sep_finanical_data[\"Октябрь 2023\"] == 0]\n",
        "sep_report = sep_prolongations.merge(sep1_finanical_data, on = \"id\")\n",
        "nov_sep_report = sep_report[sep_report[\"Ноябрь 2023\"] > 0]\n",
        "sep_manager_report = sep_report.groupby(\"AM\")[\"Сентябрь 2023\"].sum()\n",
        "nov_sep_manager_report = nov_sep_report.groupby(\"AM\")[\"Сентябрь 2023\"].sum()\n",
        "sep_all_report = sep_report[\"Сентябрь 2023\"].sum()\n",
        "nov_sep_all_report = nov_sep_report[\"Сентябрь 2023\"].sum()\n",
        "coef_sep_nov_manager = (sep_manager_report / nov_sep_manager_report)\n",
        "coef_sep_nov_all = (sep_all_report / nov_sep_all_report)\n",
        "readable_coef_sep_nov_manager = coef_sep_nov_manager[coef_sep_nov_manager.notna()].to_dict()\n",
        "print(\"Коэффициенты для менеджеров:\")\n",
        "for key in readable_coef_sep_nov_manager.keys():\n",
        "  print(key, readable_coef_sep_nov_manager[key])\n",
        "print(\"Общий коэффициент:\", coef_sep_nov_all)"
      ],
      "metadata": {
        "colab": {
          "base_uri": "https://localhost:8080/"
        },
        "id": "7Fjl4B4nsopY",
        "outputId": "3ae3a12e-11a3-48bf-f448-bd4bc2f358b8"
      },
      "execution_count": null,
      "outputs": [
        {
          "output_type": "stream",
          "name": "stdout",
          "text": [
            "Коэффициенты для менеджеров:\n",
            "Попова Екатерина Николаевна 7.304660473479173\n",
            "Общий коэффициент: 70.12710098891219\n"
          ]
        }
      ]
    },
    {
      "cell_type": "code",
      "source": [
        "oct_report = oct_prolongations.merge(oct_finanical_data, on = \"id\")\n",
        "nov_oct_report = oct_report[oct_report[\"Ноябрь 2023\"] > 0]\n",
        "oct_manager_report = oct_report.groupby(\"AM\")[\"Октябрь 2023\"].sum()\n",
        "nov_oct_manager_report = nov_oct_report.groupby(\"AM\")[\"Октябрь 2023\"].sum()\n",
        "oct_all_report = oct_report[\"Октябрь 2023\"].sum()\n",
        "nov_oct_all_report = nov_oct_report[\"Октябрь 2023\"].sum()\n",
        "coef_oct_nov_manager = (oct_manager_report / nov_oct_manager_report)\n",
        "coef_oct_nov_all = (oct_all_report / nov_oct_all_report)\n",
        "readable_coef_oct_nov_manager = coef_oct_nov_manager[coef_oct_nov_manager.notna()].to_dict()\n",
        "print(\"Коэффициенты для менеджеров:\")\n",
        "for key in readable_coef_oct_nov_manager.keys():\n",
        "  print(key, readable_coef_oct_nov_manager[key])\n",
        "print(\"Общий коэффициент:\", coef_oct_nov_all)"
      ],
      "metadata": {
        "colab": {
          "base_uri": "https://localhost:8080/"
        },
        "id": "ZpaZglLGsosX",
        "outputId": "64c8bd9b-80b7-403b-bc15-2f6751fda030"
      },
      "execution_count": null,
      "outputs": [
        {
          "output_type": "stream",
          "name": "stdout",
          "text": [
            "Коэффициенты для менеджеров:\n",
            "Васильев Артем Александрович 1.4543435644884883\n",
            "Кузнецов Михаил Иванович 2.0742518913828283\n",
            "Смирнова Ольга Владимировна 1.6678851174934726\n",
            "Соколова Анастасия Викторовна 5.895662100456621\n",
            "Общий коэффициент: 1.9960235553047836\n"
          ]
        }
      ]
    },
    {
      "cell_type": "markdown",
      "source": [
        "Считаем коэффициенты за декабрь 2023"
      ],
      "metadata": {
        "id": "ZhIADHHmso4y"
      }
    },
    {
      "cell_type": "code",
      "source": [
        "oct1_finanical_data = oct_finanical_data[oct_finanical_data[\"Ноябрь 2023\"] == 0]\n",
        "oct_report = oct_prolongations.merge(oct1_finanical_data, on = \"id\")\n",
        "dec_oct_report = oct_report[oct_report[\"Декабрь 2023\"] > 0]\n",
        "oct_manager_report = oct_report.groupby(\"AM\")[\"Октябрь 2023\"].sum()\n",
        "dec_oct_manager_report = dec_oct_report.groupby(\"AM\")[\"Октябрь 2023\"].sum()\n",
        "oct_all_report = oct_report[\"Октябрь 2023\"].sum()\n",
        "dec_oct_all_report = dec_oct_report[\"Октябрь 2023\"].sum()\n",
        "coef_oct_dec_manager = (oct_manager_report / dec_oct_manager_report)\n",
        "coef_oct_dec_all = (oct_all_report / dec_oct_all_report)\n",
        "readable_coef_oct_dec_manager = coef_oct_dec_manager[coef_oct_dec_manager.notna()].to_dict()\n",
        "print(\"Коэффициенты для менеджеров:\")\n",
        "for key in readable_coef_oct_dec_manager.keys():\n",
        "  print(key, readable_coef_oct_dec_manager[key])\n",
        "print(\"Общий коэффициент:\", coef_oct_dec_all)"
      ],
      "metadata": {
        "colab": {
          "base_uri": "https://localhost:8080/"
        },
        "id": "uUF_lTEbspLt",
        "outputId": "dce63f5f-8504-4988-a3a8-46b7702c42d9"
      },
      "execution_count": null,
      "outputs": [
        {
          "output_type": "stream",
          "name": "stdout",
          "text": [
            "Коэффициенты для менеджеров:\n",
            "Васильев Артем Александрович 1.8324579432138235\n",
            "Кузнецов Михаил Иванович 35.26796414282681\n",
            "Смирнова Ольга Владимировна 1.6129821958456974\n",
            "Общий коэффициент: 4.579070654893866\n"
          ]
        }
      ]
    },
    {
      "cell_type": "code",
      "source": [
        "nov_report = nov_prolongations.merge(nov_finanical_data, on = \"id\")\n",
        "dec_nov_report = nov_report[nov_report[\"Декабрь 2023\"] > 0]\n",
        "nov_manager_report = nov_report.groupby(\"AM\")[\"Ноябрь 2023\"].sum()\n",
        "dec_nov_manager_report = dec_nov_report.groupby(\"AM\")[\"Ноябрь 2023\"].sum()\n",
        "nov_all_report = nov_report[\"Ноябрь 2023\"].sum()\n",
        "dec_nov_all_report = dec_nov_report[\"Ноябрь 2023\"].sum()\n",
        "coef_nov_dec_manager = (nov_manager_report / dec_nov_manager_report)\n",
        "coef_nov_dec_all = (nov_all_report / dec_nov_all_report)\n",
        "readable_coef_nov_dec_manager = coef_nov_dec_manager[coef_nov_dec_manager.notna()].to_dict()\n",
        "print(\"Коэффициенты для менеджеров:\")\n",
        "for key in readable_coef_nov_dec_manager.keys():\n",
        "  print(key, readable_coef_nov_dec_manager[key])\n",
        "print(\"Общий коэффициент:\", coef_nov_dec_all)"
      ],
      "metadata": {
        "colab": {
          "base_uri": "https://localhost:8080/"
        },
        "id": "rRfb3t9lspO4",
        "outputId": "50463789-fcd3-455a-db0d-93ecdc847355"
      },
      "execution_count": null,
      "outputs": [
        {
          "output_type": "stream",
          "name": "stdout",
          "text": [
            "Коэффициенты для менеджеров:\n",
            "Васильев Артем Александрович 2.782295081967213\n",
            "Кузнецов Михаил Иванович 3.8010559917687434\n",
            "Петрова Анна Дмитриевна 1.0\n",
            "Попова Екатерина Николаевна 1.6661999852626925\n",
            "Смирнова Ольга Владимировна 1.8490863884392679\n",
            "Соколова Анастасия Викторовна 1.1202150738295737\n",
            "Общий коэффициент: 1.6094116206067914\n"
          ]
        }
      ]
    },
    {
      "cell_type": "markdown",
      "source": [
        "Считаем коэффициенты за 2023"
      ],
      "metadata": {
        "id": "Q9tbLtJXspeO"
      }
    },
    {
      "cell_type": "code",
      "source": [
        "avg_manager_coefs = pd.DataFrame([\n",
        "    readable_coef_nov_jan_manager,\n",
        "    readable_coef_dec_jan_manager,\n",
        "    readable_coef_dec_feb_manager,\n",
        "    readable_coef_jan_feb_manager,\n",
        "    readable_coef_jan_mar_manager,\n",
        "    readable_coef_feb_mar_manager,\n",
        "    readable_coef_feb_apr_manager,\n",
        "    readable_coef_mar_apr_manager,\n",
        "    readable_coef_mar_may_manager,\n",
        "    readable_coef_apr_may_manager,\n",
        "    readable_coef_apr_jun_manager,\n",
        "    readable_coef_may_jun_manager,\n",
        "    readable_coef_may_jul_manager,\n",
        "    readable_coef_jun_jul_manager,\n",
        "    readable_coef_jun_aug_manager,\n",
        "    readable_coef_jul_aug_manager,\n",
        "    readable_coef_jul_sep_manager,\n",
        "    readable_coef_aug_sep_manager,\n",
        "    readable_coef_aug_oct_manager,\n",
        "    readable_coef_sep_oct_manager,\n",
        "    readable_coef_sep_nov_manager,\n",
        "    readable_coef_oct_nov_manager,\n",
        "    readable_coef_oct_dec_manager,\n",
        "    readable_coef_nov_dec_manager,\n",
        "    readable_coef_nov_dec_manager\n",
        "])\n",
        "avg_coef_manager = dict(avg_manager_coefs.replace([np.inf, -np.inf], np.nan).mean())\n",
        "print(\"Коэффициенты для менеджеров:\")\n",
        "for key in avg_coef_manager.keys():\n",
        "  print(key, avg_coef_manager[key])\n",
        "\n",
        "avg_all_coefs = pd.DataFrame([\n",
        "    coef_nov_jan_all,\n",
        "    coef_dec_jan_all,\n",
        "    coef_dec_feb_all,\n",
        "    coef_jan_feb_all,\n",
        "    coef_jan_mar_all,\n",
        "    coef_feb_mar_all,\n",
        "    coef_feb_apr_all,\n",
        "    coef_mar_apr_all,\n",
        "    coef_mar_may_all,\n",
        "    coef_apr_may_all,\n",
        "    coef_apr_jun_all,\n",
        "    coef_may_jun_all,\n",
        "    coef_may_jul_all,\n",
        "    coef_jun_jul_all,\n",
        "    coef_jun_aug_all,\n",
        "    coef_jul_aug_all,\n",
        "    coef_jul_sep_all,\n",
        "    coef_aug_sep_all,\n",
        "    coef_aug_oct_all,\n",
        "    coef_sep_oct_all,\n",
        "    coef_sep_nov_all,\n",
        "    coef_oct_nov_all,\n",
        "    coef_oct_dec_all,\n",
        "    coef_nov_dec_all,\n",
        "    coef_nov_dec_all\n",
        "])\n",
        "avg_coef_all = float(avg_all_coefs.replace([np.inf, -np.inf], np.nan).mean())\n",
        "print(\"Общий коэффициент:\", avg_coef_all)\n"
      ],
      "metadata": {
        "colab": {
          "base_uri": "https://localhost:8080/"
        },
        "id": "2SwoQET0sp15",
        "outputId": "ce0d48b2-ed10-4241-f87d-b16f71944a4a"
      },
      "execution_count": null,
      "outputs": [
        {
          "output_type": "stream",
          "name": "stdout",
          "text": [
            "Коэффициенты для менеджеров:\n",
            "Соколова Анастасия Викторовна 2.6204102558195874\n",
            "Васильев Артем Александрович 9.035812713611644\n",
            "Иванова Мария Сергеевна 1.9922423706284178\n",
            "Кузнецов Михаил Иванович 6.992046859678161\n",
            "Михайлов Андрей Сергеевич 1.1889263561867482\n",
            "Попова Екатерина Николаевна 3.0982202652730986\n",
            "Смирнова Ольга Владимировна 1.5783459599300775\n",
            "Петрова Анна Дмитриевна 1.0\n",
            "Общий коэффициент: 17.503278430170678\n"
          ]
        },
        {
          "output_type": "stream",
          "name": "stderr",
          "text": [
            "/tmp/ipython-input-26619541.py:60: FutureWarning: Calling float on a single element Series is deprecated and will raise a TypeError in the future. Use float(ser.iloc[0]) instead\n",
            "  avg_coef_all = float(avg_all_coefs.replace([np.inf, -np.inf], np.nan).mean())\n"
          ]
        }
      ]
    }
  ]
}